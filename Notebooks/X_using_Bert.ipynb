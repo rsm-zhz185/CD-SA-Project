{
 "cells": [
  {
   "cell_type": "code",
   "execution_count": 1,
   "metadata": {},
   "outputs": [],
   "source": [
    "import pandas as pd"
   ]
  },
  {
   "cell_type": "code",
   "execution_count": 2,
   "metadata": {},
   "outputs": [],
   "source": [
    "df_x = pd.read_csv('processed data/X.csv')"
   ]
  },
  {
   "cell_type": "markdown",
   "metadata": {},
   "source": [
    "# using bert as an sample test"
   ]
  },
  {
   "cell_type": "code",
   "execution_count": 3,
   "metadata": {},
   "outputs": [],
   "source": [
    "df_50000 = df_x.sample(50000)"
   ]
  },
  {
   "cell_type": "code",
   "execution_count": 4,
   "metadata": {},
   "outputs": [],
   "source": [
    "df_50000.to_csv('processed data/X_50000.csv', index=False)"
   ]
  },
  {
   "cell_type": "code",
   "execution_count": 5,
   "metadata": {},
   "outputs": [
    {
     "name": "stderr",
     "output_type": "stream",
     "text": [
      "/Library/Frameworks/Python.framework/Versions/3.11/lib/python3.11/site-packages/tqdm/auto.py:21: TqdmWarning: IProgress not found. Please update jupyter and ipywidgets. See https://ipywidgets.readthedocs.io/en/stable/user_install.html\n",
      "  from .autonotebook import tqdm as notebook_tqdm\n",
      "Device set to use mps:0\n"
     ]
    },
    {
     "name": "stdout",
     "output_type": "stream",
     "text": [
      "predict_sentiment\n",
      "positive    27248\n",
      "negative    22752\n",
      "Name: count, dtype: int64\n",
      "Twitter-RoBERTa performance on X:\n",
      "              precision    recall  f1-score   support\n",
      "\n",
      "    negative       0.79      0.73      0.76     24873\n",
      "    positive       0.75      0.81      0.78     25127\n",
      "\n",
      "    accuracy                           0.77     50000\n",
      "   macro avg       0.77      0.77      0.77     50000\n",
      "weighted avg       0.77      0.77      0.77     50000\n",
      "\n"
     ]
    }
   ],
   "source": [
    "import torch\n",
    "from transformers import pipeline\n",
    "\n",
    "# ** Twitter-RoBERTa **\n",
    "classifier = pipeline(\"sentiment-analysis\", model=\"cardiffnlp/twitter-roberta-base-sentiment\", top_k=None)\n",
    "\n",
    "def map_roberta_prediction(text):\n",
    "    scores = classifier(text)[0]  \n",
    "    scores_dict = {score[\"label\"]: score[\"score\"] for score in scores}\n",
    "\n",
    "    max_label = max(scores_dict, key=scores_dict.get)\n",
    "\n",
    "    if max_label == \"LABEL_1\": \n",
    "        if scores_dict[\"LABEL_2\"] > scores_dict[\"LABEL_0\"]:\n",
    "            return \"positive\" \n",
    "        else:\n",
    "            return \"negative\" \n",
    "    else:\n",
    "        return \"positive\" if max_label == \"LABEL_2\" else \"negative\"\n",
    "\n",
    "df_50000[\"predict_sentiment\"] = df_50000[\"review\"].apply(map_roberta_prediction)\n",
    "\n",
    "print(df_50000[\"predict_sentiment\"].value_counts())\n",
    "\n",
    "from sklearn.metrics import classification_report\n",
    "if \"sentiment\" in df_50000.columns:\n",
    "    print(\"Twitter-RoBERTa performance on X:\")\n",
    "    print(classification_report(df_50000[\"sentiment\"], df_50000[\"predict_sentiment\"]))\n"
   ]
  }
 ],
 "metadata": {
  "kernelspec": {
   "display_name": "Python 3",
   "language": "python",
   "name": "python3"
  },
  "language_info": {
   "codemirror_mode": {
    "name": "ipython",
    "version": 3
   },
   "file_extension": ".py",
   "mimetype": "text/x-python",
   "name": "python",
   "nbconvert_exporter": "python",
   "pygments_lexer": "ipython3",
   "version": "3.11.9"
  }
 },
 "nbformat": 4,
 "nbformat_minor": 2
}
